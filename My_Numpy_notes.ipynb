{
 "cells": [
  {
   "cell_type": "code",
   "execution_count": null,
   "metadata": {},
   "outputs": [],
   "source": [
    "#NUMPY is a liner aljebra libray\n",
    "\n",
    "#Numpy Array is the main way we use Numpy.\n",
    "\n",
    "#Numpy Array are of the following two type:\n",
    "    #1.Vector are strcitly 1-D array\n",
    "    #2.Matrices are 2D array they still have 1 row and 1 column\n"
   ]
  },
  {
   "cell_type": "code",
   "execution_count": 8,
   "metadata": {},
   "outputs": [
    {
     "data": {
      "text/plain": [
       "array([1, 2, 3])"
      ]
     },
     "execution_count": 8,
     "metadata": {},
     "output_type": "execute_result"
    }
   ],
   "source": [
    "# **Numpy array** \n",
    "import numpy as np\n",
    "\n",
    "my_list = [1,2,3] # this is simply a list\n",
    "my_list # displays the output of the list \n",
    "\n",
    "np.array(my_list) # casting the above list in to the array\n",
    "\n",
    "arr = np.array(my_list) #assinging it to a varible \n",
    "\n",
    "arr #printing the array \n"
   ]
  },
  {
   "cell_type": "code",
   "execution_count": 12,
   "metadata": {},
   "outputs": [
    {
     "data": {
      "text/plain": [
       "array([[1, 2, 3],\n",
       "       [4, 5, 3],\n",
       "       [7, 8, 9]])"
      ]
     },
     "execution_count": 12,
     "metadata": {},
     "output_type": "execute_result"
    }
   ],
   "source": [
    "# Numpy 2D array\n",
    "\n",
    "# a list of list can be casted to a 2D array\n",
    "\n",
    "my_list = [[1,2,3],[4,5,3],[7,8,9]] # making a 2D list\n",
    "twodarray = np.array(my_list) #casting a a list of list in to array wil give you a 2D array.\n",
    "twodarray"
   ]
  },
  {
   "cell_type": "code",
   "execution_count": 17,
   "metadata": {},
   "outputs": [
    {
     "name": "stdout",
     "output_type": "stream",
     "text": [
      "[0 1 2 3 4 5 6 7 8 9]\n"
     ]
    },
    {
     "data": {
      "text/plain": [
       "array([0, 2, 4, 6, 8])"
      ]
     },
     "execution_count": 17,
     "metadata": {},
     "output_type": "execute_result"
    }
   ],
   "source": [
    "# Numpy own array generation method for much faster and much simpler way of doing making Numpy array \n",
    "\n",
    "arr = np.arange(0,10) # similar to python owns range fuction. Has numpy.arange([start, ]stop, [step, ]dtype=None) \n",
    "                # will give you a list of numbers from 0 to 9 but not 10\n",
    "print(arr)     \n",
    "# Numpy range has skip fuction    \n",
    "arr1 = np.arange(0,10,2) # jumps at a step of 2\n",
    "print(arr1) "
   ]
  },
  {
   "cell_type": "code",
   "execution_count": 32,
   "metadata": {},
   "outputs": [
    {
     "name": "stdout",
     "output_type": "stream",
     "text": [
      "[0. 0. 0.]\n",
      "[[0. 0. 0. 0. 0.]\n",
      " [0. 0. 0. 0. 0.]\n",
      " [0. 0. 0. 0. 0.]\n",
      " [0. 0. 0. 0. 0.]\n",
      " [0. 0. 0. 0. 0.]]\n",
      "[[1. 1. 1. 1.]\n",
      " [1. 1. 1. 1.]\n",
      " [1. 1. 1. 1.]]\n",
      "[0.         0.55555556 1.11111111 1.66666667 2.22222222 2.77777778\n",
      " 3.33333333 3.88888889 4.44444444 5.        ]\n"
     ]
    },
    {
     "data": {
      "text/plain": [
       "array([[1., 0., 0., 0.],\n",
       "       [0., 1., 0., 0.],\n",
       "       [0., 0., 1., 0.],\n",
       "       [0., 0., 0., 1.]])"
      ]
     },
     "execution_count": 32,
     "metadata": {},
     "output_type": "execute_result"
    }
   ],
   "source": [
    "# Numpy has special type of arrays\n",
    "\n",
    "np.zeros(3) # we get a 1D vector out\n",
    "print(np.zeros(3)) # we get a 1 D vector out\n",
    "\n",
    "print(np.zeros((5,5))) # passing a tuple. first shows number of rows second number shows number of columns\n",
    "\n",
    "print(np.ones((3,4))) # passing a tuple to make a 2D array of ONE's aka 1's array\n",
    "\n",
    "# to print 1D vector of evenly spaced points we use linspace\n",
    "print(np.linspace(0,5,10)) # as we can see here that we get a list of 10 evenly spaced numbers from 0 to 5 \n",
    "\n",
    "#making an idendity matrix\n",
    "np.eye(4)"
   ]
  },
  {
   "cell_type": "code",
   "execution_count": 36,
   "metadata": {},
   "outputs": [
    {
     "name": "stdout",
     "output_type": "stream",
     "text": [
      "[0.79224744 0.7335511  0.46996556 0.57042258 0.50071372]\n"
     ]
    },
    {
     "data": {
      "text/plain": [
       "array([[0.38511575, 0.53710442, 0.68585984, 0.01443357, 0.52375121],\n",
       "       [0.59583004, 0.38320839, 0.77971893, 0.40004844, 0.4778997 ],\n",
       "       [0.7060499 , 0.75479571, 0.90787829, 0.08361414, 0.87938678],\n",
       "       [0.36405719, 0.44779431, 0.68931585, 0.37120804, 0.94834684],\n",
       "       [0.28247936, 0.20787853, 0.47118062, 0.96253133, 0.54239855]])"
      ]
     },
     "execution_count": 36,
     "metadata": {},
     "output_type": "execute_result"
    }
   ],
   "source": [
    "# 1D array random samples of normaly distributed \n",
    "\n",
    "print(np.random.rand(5))\n",
    "\n",
    "np.random.rand(5,5) # two dimention, unlike array we dont pass a tuple for row and column "
   ]
  },
  {
   "cell_type": "code",
   "execution_count": 39,
   "metadata": {},
   "outputs": [
    {
     "name": "stdout",
     "output_type": "stream",
     "text": [
      "[0.05730958 0.41115593]\n",
      "[[ 0.37909271 -1.91578751]\n",
      " [-0.37728136  1.01038149]]\n"
     ]
    }
   ],
   "source": [
    "# returing a sample from normal or GAUSIAN distribution \n",
    "print(np.random.randn(2)) # getting two random numbers form normal distribution\n",
    "\n",
    "print(np.random.randn(2,2)) #printing a two dimentions array of normal distribution "
   ]
  },
  {
   "cell_type": "code",
   "execution_count": 44,
   "metadata": {},
   "outputs": [
    {
     "name": "stdout",
     "output_type": "stream",
     "text": [
      "14\n",
      "[16 32 55 71 72]\n"
     ]
    }
   ],
   "source": [
    "# getting a random number form low to a high number\n",
    "\n",
    "print(np.random.randint(1,100))  #randint(low, high=None, size=None, dtype='l')  from `low` (inclusive) to `high` (exclusive).\n",
    "\n",
    "print(np.random.randint(1,100,5)) #gives a array of 5 numbers"
   ]
  },
  {
   "cell_type": "code",
   "execution_count": 54,
   "metadata": {},
   "outputs": [
    {
     "name": "stdout",
     "output_type": "stream",
     "text": [
      "[ 0  1  2  3  4  5  6  7  8  9 10 11 12 13 14 15 16 17 18 19 20 21 22 23\n",
      " 24]\n",
      "[[ 0  1  2  3  4]\n",
      " [ 5  6  7  8  9]\n",
      " [10 11 12 13 14]\n",
      " [15 16 17 18 19]\n",
      " [20 21 22 23 24]]\n",
      "[ 9 30 16  3 33  3 49 31  7 33]\n"
     ]
    }
   ],
   "source": [
    "# important attribute of arrays\n",
    "arr = np.arange(25)\n",
    "print(arr)\n",
    "\n",
    "print(arr.reshape(5,5)) #using the reshpe to change the format of the array arr. use the array to have the number that it contains\n",
    "                        # rows * columns should be equal to the numbers in the array = 5 * 5 = 25\n",
    "\n",
    "anarr = np.random.randint(0,50,10) \n",
    "\n",
    "print(anarr)"
   ]
  },
  {
   "cell_type": "code",
   "execution_count": 68,
   "metadata": {},
   "outputs": [
    {
     "name": "stdout",
     "output_type": "stream",
     "text": [
      "24\n",
      "0\n",
      "24\n",
      "0\n",
      "[[ 0  1  2  3  4]\n",
      " [ 5  6  7  8  9]\n",
      " [10 11 12 13 14]\n",
      " [15 16 17 18 19]\n",
      " [20 21 22 23 24]]\n"
     ]
    },
    {
     "data": {
      "text/plain": [
       "dtype('int32')"
      ]
     },
     "execution_count": 68,
     "metadata": {},
     "output_type": "execute_result"
    }
   ],
   "source": [
    "# useful function \n",
    "print(arr.max()) # returns maximum \n",
    "print(arr.min()) # retruns minimum\n",
    "\n",
    "print(arr.argmax()) # returns index location of the max value \n",
    "\n",
    "print(arr.argmin()) # returns index location of the min value \n",
    "\n",
    "arr.shape # gives the shape of the array\n",
    "\n",
    "arr = arr.reshape(5,5) #reshape\n",
    "print(arr)\n",
    "arr.shape\n",
    "\n",
    "#curious about the data type \n",
    "arr.dtype"
   ]
  },
  {
   "cell_type": "code",
   "execution_count": 69,
   "metadata": {},
   "outputs": [
    {
     "data": {
      "text/plain": [
       "2"
      ]
     },
     "execution_count": 69,
     "metadata": {},
     "output_type": "execute_result"
    }
   ],
   "source": [
    "# for not typing a np.random.randint we do the following\n",
    "\n",
    "from numpy.random import randint\n",
    "randint(2,10)\n",
    "\n"
   ]
  },
  {
   "cell_type": "code",
   "execution_count": 80,
   "metadata": {},
   "outputs": [
    {
     "name": "stdout",
     "output_type": "stream",
     "text": [
      "[ 0  1  2  3  4  5  6  7  8  9 10]\n",
      "8\n",
      "[0 1 2 3 4 5 6 7 8]\n",
      "[ 9 10]\n"
     ]
    }
   ],
   "source": [
    "#numpy indexing and selection : How to select the selects elements or group of elements \n",
    "\n",
    "# indexing starts at 0\n",
    "\n",
    "arr = np.arange(0,11)\n",
    "print(arr)\n",
    "\n",
    "print(arr[8]) # we give the index position of the array arr\n",
    "\n",
    "arr[1:7] #startig index and stopping index\n",
    "\n",
    "print(arr[:9]) # everything from starting  till 9th index\n",
    "print(arr[9:]) # everything beyond 9th index till end"
   ]
  },
  {
   "cell_type": "code",
   "execution_count": 83,
   "metadata": {},
   "outputs": [
    {
     "name": "stdout",
     "output_type": "stream",
     "text": [
      "[100 100 100 100 100   5   6   7   8   9  10]\n"
     ]
    }
   ],
   "source": [
    "# numpy broadcasting feature\n",
    "\n",
    "arr[0:5] = 100\n",
    "print(arr) #it broad cast 100 from index 0 till 5"
   ]
  },
  {
   "cell_type": "code",
   "execution_count": 100,
   "metadata": {},
   "outputs": [
    {
     "name": "stdout",
     "output_type": "stream",
     "text": [
      "[99 99 99 99 99 99  6  7  8  9 10]\n",
      "[100 100 100 100 100 100 100 100 100 100 100]\n",
      "[99 99 99 99 99 99  6  7  8  9 10]\n"
     ]
    }
   ],
   "source": [
    "# slicing in the numpy array \n",
    "arr = np.arange(0,11)\n",
    "\n",
    "slice_of_array = arr[0:6]  # it is just a refference of the array\n",
    "slice_of_array\n",
    "\n",
    "slice_of_array[:] = 99 \n",
    "\n",
    "slice_of_array\n",
    "arr # original array is modified.\n",
    "\n",
    "#copying the array\n",
    "arr_copy = arr.copy()\n",
    "print(arr_copy)\n",
    "\n",
    "arr_copy[:] = 100\n",
    "print(arr_copy) # that the copy of the arr\n",
    "print(arr) #now printing the original array it remians the same"
   ]
  },
  {
   "cell_type": "markdown",
   "metadata": {},
   "source": [
    "# indexing the 2D array\n",
    "\n",
    "arr_2d = np.array([[1,2,3],[4,5,6],[7,8,9]])\n",
    "arr_2d\n",
    "\n",
    "# there are 2 formats to grab the elements form the array as following \n",
    "    # Double bracket format\n",
    "    # single bracket format with the ,\n",
    "\n",
    "# Double bracket format\n",
    "print('index for the first row and the first column  :', arr_2d[0][0]) # index for the first row and the first column\n",
    "\n",
    "print('index the entire row back : ',arr_2d[0]) #index the entire row back of index 0\n",
    "\n",
    "# single bracket , approach\n",
    "\n",
    "arr_2d[2,1] # will give 8 - recommended to use it\n",
    "\n",
    "# getting the submatrix\n",
    "arr_2d[:2,1:] # \n",
    "print(arr_2d)\n",
    "arr_2d[0:,:2]"
   ]
  },
  {
   "cell_type": "code",
   "execution_count": 149,
   "metadata": {},
   "outputs": [
    {
     "data": {
      "text/plain": [
       "array([1, 2])"
      ]
     },
     "execution_count": 149,
     "metadata": {},
     "output_type": "execute_result"
    }
   ],
   "source": [
    "#Conditional selection\n",
    "arr = np.arange(1,11)\n",
    "arr\n",
    "bool_arr = arr > 5 # a array of Booliean values\n",
    "arr[bool_arr] # now conditionally select the elemet \n",
    "arr[arr >5 ] # all the elements of array that are greater than 5\n",
    "arr[arr <3] # all the elements of array that are less than 3\n"
   ]
  },
  {
   "cell_type": "code",
   "execution_count": 155,
   "metadata": {},
   "outputs": [
    {
     "data": {
      "text/plain": [
       "array([[ 0,  1],\n",
       "       [10, 11],\n",
       "       [20, 21]])"
      ]
     },
     "execution_count": 155,
     "metadata": {},
     "output_type": "execute_result"
    }
   ],
   "source": [
    "#practice\n",
    "arr_2d = np.arange(50).reshape(5,10)\n",
    "arr_2d\n",
    "arr_2d[:3,:2]"
   ]
  },
  {
   "cell_type": "code",
   "execution_count": 165,
   "metadata": {},
   "outputs": [
    {
     "name": "stdout",
     "output_type": "stream",
     "text": [
      "[ 0  2  4  6  8 10 12 14 16 18 20]\n",
      "[0 0 0 0 0 0 0 0 0 0 0]\n",
      "[  0   1   4   9  16  25  36  49  64  81 100]\n",
      "[ 0  1  2  3  4  5  6  7  8  9 10]\n"
     ]
    }
   ],
   "source": [
    "#Numpy operation\n",
    "\n",
    "#Array with Array \n",
    "#Array with Scalar operation \n",
    "#Universal Array Function \n",
    "\n",
    "\n",
    "arr = np.arange(0,11)\n",
    "\n",
    "arr1 = arr + arr # array is getting added with array\n",
    "\n",
    "print(arr1)\n",
    "\n",
    "arr3 = arr - arr # array subsraction\n",
    "print(arr3)\n",
    "\n",
    "arr2 = arr * arr #arry is getting multiplied\n",
    "print(arr2)\n",
    "    \n",
    "    \n",
    "    "
   ]
  },
  {
   "cell_type": "code",
   "execution_count": 170,
   "metadata": {},
   "outputs": [
    {
     "name": "stdout",
     "output_type": "stream",
     "text": [
      "[100 101 102 103 104 105 106 107 108 109 110]\n",
      "[-100  -99  -98  -97  -96  -95  -94  -93  -92  -91  -90]\n"
     ]
    }
   ],
   "source": [
    "#array with scalar operation\n",
    "\n",
    "r1 = arr + 100\n",
    "print(r1)  # adding to array\n",
    "\n",
    "r2 = arr - 100\n",
    "print(r2)  # substracting to array \n"
   ]
  },
  {
   "cell_type": "code",
   "execution_count": 175,
   "metadata": {},
   "outputs": [
    {
     "name": "stderr",
     "output_type": "stream",
     "text": [
      "C:\\Users\\Owner\\Anaconda3\\lib\\site-packages\\ipykernel_launcher.py:3: RuntimeWarning: invalid value encountered in true_divide\n",
      "  This is separate from the ipykernel package so we can avoid doing imports until\n",
      "C:\\Users\\Owner\\Anaconda3\\lib\\site-packages\\ipykernel_launcher.py:6: RuntimeWarning: divide by zero encountered in true_divide\n",
      "  \n"
     ]
    },
    {
     "data": {
      "text/plain": [
       "array([  0,   1,   4,   9,  16,  25,  36,  49,  64,  81, 100], dtype=int32)"
      ]
     },
     "execution_count": 175,
     "metadata": {},
     "output_type": "execute_result"
    }
   ],
   "source": [
    "# Numpy warning\n",
    "\n",
    "arr / arr # gives us warning\n",
    "# we still get an output with nan for 0/0 element in the \n",
    "\n",
    "1/ arr # we get the warning and but infinity this time \n",
    "\n",
    "\n",
    "arr**2 # array with the power of two"
   ]
  },
  {
   "cell_type": "code",
   "execution_count": 183,
   "metadata": {},
   "outputs": [
    {
     "name": "stdout",
     "output_type": "stream",
     "text": [
      "[0.         1.         1.41421356 1.73205081 2.         2.23606798\n",
      " 2.44948974 2.64575131 2.82842712 3.         3.16227766]\n",
      "[1.00000000e+00 2.71828183e+00 7.38905610e+00 2.00855369e+01\n",
      " 5.45981500e+01 1.48413159e+02 4.03428793e+02 1.09663316e+03\n",
      " 2.98095799e+03 8.10308393e+03 2.20264658e+04]\n",
      "10\n",
      "0\n",
      "[ 0.          0.84147098  0.90929743  0.14112001 -0.7568025  -0.95892427\n",
      " -0.2794155   0.6569866   0.98935825  0.41211849 -0.54402111]\n"
     ]
    }
   ],
   "source": [
    "# Numpy Universal array function\n",
    "\n",
    "print(np.sqrt(arr)) # gives the square root of the array\n",
    "\n",
    "print(np.exp(arr))# exponent \n",
    "\n",
    "print(np.max(arr)) # returns the max\n",
    "\n",
    "print(np.min(arr)) # returns the min\n",
    "\n",
    "print(np.sin(arr)) # gets the sin value\n",
    "\n"
   ]
  }
 ],
 "metadata": {
  "kernelspec": {
   "display_name": "Python 3",
   "language": "python",
   "name": "python3"
  },
  "language_info": {
   "codemirror_mode": {
    "name": "ipython",
    "version": 3
   },
   "file_extension": ".py",
   "mimetype": "text/x-python",
   "name": "python",
   "nbconvert_exporter": "python",
   "pygments_lexer": "ipython3",
   "version": "3.7.4"
  }
 },
 "nbformat": 4,
 "nbformat_minor": 2
}
