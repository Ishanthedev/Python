{
  "nbformat": 4,
  "nbformat_minor": 0,
  "metadata": {
    "colab": {
      "name": "Ishan_Neural_Network_code_1.ipynb",
      "provenance": [],
      "collapsed_sections": [],
      "include_colab_link": true
    },
    "kernelspec": {
      "name": "python3",
      "display_name": "Python 3"
    }
  },
  "cells": [
    {
      "cell_type": "markdown",
      "metadata": {
        "id": "view-in-github",
        "colab_type": "text"
      },
      "source": [
        "<a href=\"https://colab.research.google.com/github/Ishanthedev/Python/blob/master/Ishan_Neural_Network_code_1.ipynb\" target=\"_parent\"><img src=\"https://colab.research.google.com/assets/colab-badge.svg\" alt=\"Open In Colab\"/></a>"
      ]
    },
    {
      "cell_type": "markdown",
      "metadata": {
        "id": "AQNwpPhevkeh",
        "colab_type": "text"
      },
      "source": [
        "## Step 1\n",
        "1. Define parameter- Network and hyper-parameters\n",
        "2. TF Computation Graph\n",
        "3. Multilayer perception\n",
        "4. W, b dictionaries\n",
        "5. pred label\n",
        "6. cost & optimizers\n",
        "7. Init Session\n",
        "8. Run The sesssion and model\n",
        "9. Eval accuracy \n"
      ]
    },
    {
      "cell_type": "code",
      "metadata": {
        "id": "fi9hpgLpvoJD",
        "colab_type": "code",
        "colab": {
          "base_uri": "https://localhost:8080/",
          "height": 87
        },
        "outputId": "28307166-05d8-477e-dd05-f5c829641c5c"
      },
      "source": [
        "#Step 1\n",
        "import tensorflow as tf\n",
        "from tensorflow.examples.tutorials.mnist import input_data\n",
        "mnist = input_data.read_data_sets(\"MNIST_data\", one_hot=True)"
      ],
      "execution_count": 28,
      "outputs": [
        {
          "output_type": "stream",
          "text": [
            "Extracting MNIST_data/train-images-idx3-ubyte.gz\n",
            "Extracting MNIST_data/train-labels-idx1-ubyte.gz\n",
            "Extracting MNIST_data/t10k-images-idx3-ubyte.gz\n",
            "Extracting MNIST_data/t10k-labels-idx1-ubyte.gz\n"
          ],
          "name": "stdout"
        }
      ]
    },
    {
      "cell_type": "code",
      "metadata": {
        "id": "s7Esa8n3xyKx",
        "colab_type": "code",
        "colab": {}
      },
      "source": [
        "# Hyperparamters\n",
        "learning_rate   = 0.0001\n",
        "training_epochs = 100\n",
        "batch_size      = 128"
      ],
      "execution_count": 0,
      "outputs": []
    },
    {
      "cell_type": "code",
      "metadata": {
        "id": "f0HD2KZRyO2l",
        "colab_type": "code",
        "colab": {}
      },
      "source": [
        "# Network Parameters\n",
        "n_hidden_1  = 256\n",
        "n_hidden_2  = 256\n",
        "n_input     = 784\n",
        "n_classes   = 10\n",
        "n_samples   = mnist.train.num_examples"
      ],
      "execution_count": 0,
      "outputs": []
    },
    {
      "cell_type": "code",
      "metadata": {
        "id": "zHFYW1tuypPS",
        "colab_type": "code",
        "colab": {}
      },
      "source": [
        "# TF graph inputs / placeholders\n",
        "x = tf.placeholder(\"float\", [None, n_input])\n",
        "y = tf.placeholder(\"float\", [None, n_classes])"
      ],
      "execution_count": 0,
      "outputs": []
    },
    {
      "cell_type": "code",
      "metadata": {
        "id": "zbiA7nqu0Ihx",
        "colab_type": "code",
        "colab": {}
      },
      "source": [
        "# weights and biases\n",
        "weights = {\n",
        "    'h1': tf.Variable(tf.random_normal([n_input, n_hidden_1])),\n",
        "    'h2': tf.Variable(tf.random_normal([n_hidden_1, n_hidden_2])),\n",
        "    'out': tf.Variable(tf.random_normal([n_hidden_2, n_classes]))\n",
        "}\n",
        "\n",
        "biases = {\n",
        "    'b1': tf.Variable(tf.random_normal([n_hidden_1])),\n",
        "    'b2': tf.Variable(tf.random_normal([n_hidden_2])),\n",
        "    'out': tf.Variable(tf.random_normal([n_classes]))\n",
        "                                        \n",
        "}"
      ],
      "execution_count": 0,
      "outputs": []
    },
    {
      "cell_type": "code",
      "metadata": {
        "id": "F94-nxCazGKf",
        "colab_type": "code",
        "colab": {}
      },
      "source": [
        "# MLP\n",
        "def mlp(x, weights, biases):\n",
        "    \n",
        "    layer_1 = tf.add(tf.matmul(x, weights['h1']), biases['b1'])\n",
        "    layer_1 = tf.nn.relu(layer_1)\n",
        "    \n",
        "    layer_2 = tf.add(tf.matmul(layer_1, weights['h2']), biases['b2'])\n",
        "    layer_2 = tf.nn.relu(layer_2)\n",
        "    \n",
        "    # final output\n",
        "    \n",
        "    out_layer = tf.add(tf.matmul(layer_2, weights['out']), biases['out'])\n",
        "    return out_layer   "
      ],
      "execution_count": 0,
      "outputs": []
    },
    {
      "cell_type": "code",
      "metadata": {
        "id": "50d9aePm45-r",
        "colab_type": "code",
        "colab": {}
      },
      "source": [
        "# predicted label\n",
        "pred = mlp(x, weights, biases)"
      ],
      "execution_count": 0,
      "outputs": []
    },
    {
      "cell_type": "code",
      "metadata": {
        "id": "ZkS_Tpqe5Cwt",
        "colab_type": "code",
        "colab": {}
      },
      "source": [
        "# costs / optimizers\n",
        "cost = tf.reduce_mean(tf.nn.softmax_cross_entropy_with_logits_v2(labels = y,\n",
        "                                                                logits = pred))\n",
        "optimizer = tf.train.AdamOptimizer(learning_rate=learning_rate).minimize(cost)"
      ],
      "execution_count": 0,
      "outputs": []
    },
    {
      "cell_type": "code",
      "metadata": {
        "id": "xXQu02cq5JFk",
        "colab_type": "code",
        "colab": {}
      },
      "source": [
        "# init\n",
        "init = tf.global_variables_initializer()"
      ],
      "execution_count": 0,
      "outputs": []
    },
    {
      "cell_type": "code",
      "metadata": {
        "id": "tflgm_RJ5M0i",
        "colab_type": "code",
        "colab": {
          "base_uri": "https://localhost:8080/",
          "height": 1000
        },
        "outputId": "c58d650d-a5f6-441d-fb7e-502a8cc68fbe"
      },
      "source": [
        "sess = tf.InteractiveSession()\n",
        "\n",
        "sess.run(init)\n",
        "\n",
        "for epoch in range(training_epochs):\n",
        "    avg_cost = 0.0\n",
        "    total_batch = int(n_samples/batch_size)\n",
        "    \n",
        "    # loop over all batches\n",
        "    for i in range(total_batch):\n",
        "        # grab the next batch\n",
        "        batch_x, batch_y = mnist.train.next_batch(batch_size)\n",
        "        # feed in the dict to minimize & optimize cost loss\n",
        "        _, c = sess.run([optimizer, cost], feed_dict={x:batch_x, y:batch_y})\n",
        "        \n",
        "        # compute avg loss\n",
        "        avg_cost += c / total_batch\n",
        "        \n",
        "    \n",
        "    print(\"Epoch: {} cost={: .4f}\".format(epoch+1, avg_cost))\n",
        "\n",
        "print(\"Model has completed {} Epochs of training\".format(training_epochs))"
      ],
      "execution_count": 40,
      "outputs": [
        {
          "output_type": "stream",
          "text": [
            "/usr/local/lib/python3.6/dist-packages/tensorflow_core/python/client/session.py:1750: UserWarning: An interactive session is already active. This can cause out-of-memory errors in some cases. You must explicitly call `InteractiveSession.close()` to release resources held by the other session(s).\n",
            "  warnings.warn('An interactive session is already active. This can '\n"
          ],
          "name": "stderr"
        },
        {
          "output_type": "stream",
          "text": [
            "Epoch: 1 cost= 741.6771\n",
            "Epoch: 2 cost= 264.0782\n",
            "Epoch: 3 cost= 165.3956\n",
            "Epoch: 4 cost= 123.6944\n",
            "Epoch: 5 cost= 99.5819\n",
            "Epoch: 6 cost= 84.4484\n",
            "Epoch: 7 cost= 73.2523\n",
            "Epoch: 8 cost= 64.9644\n",
            "Epoch: 9 cost= 58.0469\n",
            "Epoch: 10 cost= 52.3826\n",
            "Epoch: 11 cost= 47.4899\n",
            "Epoch: 12 cost= 43.8320\n",
            "Epoch: 13 cost= 40.2228\n",
            "Epoch: 14 cost= 37.2318\n",
            "Epoch: 15 cost= 34.7586\n",
            "Epoch: 16 cost= 32.2053\n",
            "Epoch: 17 cost= 30.0875\n",
            "Epoch: 18 cost= 28.5382\n",
            "Epoch: 19 cost= 26.3660\n",
            "Epoch: 20 cost= 25.2388\n",
            "Epoch: 21 cost= 23.8128\n",
            "Epoch: 22 cost= 22.2185\n",
            "Epoch: 23 cost= 21.1099\n",
            "Epoch: 24 cost= 20.2280\n",
            "Epoch: 25 cost= 18.9040\n",
            "Epoch: 26 cost= 18.1677\n",
            "Epoch: 27 cost= 17.2322\n",
            "Epoch: 28 cost= 16.3006\n",
            "Epoch: 29 cost= 15.5201\n",
            "Epoch: 30 cost= 14.9748\n",
            "Epoch: 31 cost= 14.0392\n",
            "Epoch: 32 cost= 13.3879\n",
            "Epoch: 33 cost= 12.7226\n",
            "Epoch: 34 cost= 12.4385\n",
            "Epoch: 35 cost= 11.6353\n",
            "Epoch: 36 cost= 11.1214\n",
            "Epoch: 37 cost= 10.5968\n",
            "Epoch: 38 cost= 10.2190\n",
            "Epoch: 39 cost= 9.4879\n",
            "Epoch: 40 cost= 9.3760\n",
            "Epoch: 41 cost= 9.0370\n",
            "Epoch: 42 cost= 8.2293\n",
            "Epoch: 43 cost= 8.1015\n",
            "Epoch: 44 cost= 7.6466\n",
            "Epoch: 45 cost= 7.4293\n",
            "Epoch: 46 cost= 7.0118\n",
            "Epoch: 47 cost= 6.7099\n",
            "Epoch: 48 cost= 6.3720\n",
            "Epoch: 49 cost= 6.1035\n",
            "Epoch: 50 cost= 5.7875\n",
            "Epoch: 51 cost= 5.4976\n",
            "Epoch: 52 cost= 5.2388\n",
            "Epoch: 53 cost= 5.0256\n",
            "Epoch: 54 cost= 4.6637\n",
            "Epoch: 55 cost= 4.4322\n",
            "Epoch: 56 cost= 4.3534\n",
            "Epoch: 57 cost= 4.1058\n",
            "Epoch: 58 cost= 3.8582\n",
            "Epoch: 59 cost= 3.6648\n",
            "Epoch: 60 cost= 3.4755\n",
            "Epoch: 61 cost= 3.3866\n",
            "Epoch: 62 cost= 3.0945\n",
            "Epoch: 63 cost= 2.9935\n",
            "Epoch: 64 cost= 2.8566\n",
            "Epoch: 65 cost= 2.5887\n",
            "Epoch: 66 cost= 2.5139\n",
            "Epoch: 67 cost= 2.4574\n",
            "Epoch: 68 cost= 2.2384\n",
            "Epoch: 69 cost= 2.1341\n",
            "Epoch: 70 cost= 1.9757\n",
            "Epoch: 71 cost= 1.9421\n",
            "Epoch: 72 cost= 1.6441\n",
            "Epoch: 73 cost= 1.7004\n",
            "Epoch: 74 cost= 1.5996\n",
            "Epoch: 75 cost= 1.4569\n",
            "Epoch: 76 cost= 1.3584\n",
            "Epoch: 77 cost= 1.3037\n",
            "Epoch: 78 cost= 1.1614\n",
            "Epoch: 79 cost= 1.1141\n",
            "Epoch: 80 cost= 1.0698\n",
            "Epoch: 81 cost= 1.0049\n",
            "Epoch: 82 cost= 0.8754\n",
            "Epoch: 83 cost= 0.8758\n",
            "Epoch: 84 cost= 0.7601\n",
            "Epoch: 85 cost= 0.7534\n",
            "Epoch: 86 cost= 0.6692\n",
            "Epoch: 87 cost= 0.6080\n",
            "Epoch: 88 cost= 0.5903\n",
            "Epoch: 89 cost= 0.4656\n",
            "Epoch: 90 cost= 0.4793\n",
            "Epoch: 91 cost= 0.4649\n",
            "Epoch: 92 cost= 0.3614\n",
            "Epoch: 93 cost= 0.3605\n",
            "Epoch: 94 cost= 0.3356\n",
            "Epoch: 95 cost= 0.3273\n",
            "Epoch: 96 cost= 0.2738\n",
            "Epoch: 97 cost= 0.2522\n",
            "Epoch: 98 cost= 0.2327\n",
            "Epoch: 99 cost= 0.1936\n",
            "Epoch: 100 cost= 0.2164\n",
            "Model has completed 100 Epochs of training\n"
          ],
          "name": "stdout"
        }
      ]
    },
    {
      "cell_type": "code",
      "metadata": {
        "id": "o_zXGmsQ6RY5",
        "colab_type": "code",
        "colab": {}
      },
      "source": [
        "# model testing and evaluation\n",
        "correct_predictions = tf.equal(tf.argmax(pred, 1), tf.argmax(y, 1))"
      ],
      "execution_count": 0,
      "outputs": []
    },
    {
      "cell_type": "code",
      "metadata": {
        "id": "Zsda4FGV6VJE",
        "colab_type": "code",
        "colab": {
          "base_uri": "https://localhost:8080/",
          "height": 35
        },
        "outputId": "59b39da1-8b17-456f-c787-bed526fe6f50"
      },
      "source": [
        "print(correct_predictions[0])"
      ],
      "execution_count": 42,
      "outputs": [
        {
          "output_type": "stream",
          "text": [
            "Tensor(\"strided_slice:0\", shape=(), dtype=bool)\n"
          ],
          "name": "stdout"
        }
      ]
    },
    {
      "cell_type": "code",
      "metadata": {
        "id": "YqayoZb66d1q",
        "colab_type": "code",
        "colab": {}
      },
      "source": [
        "correct_predictions = tf.cast(correct_predictions, \"float\")"
      ],
      "execution_count": 0,
      "outputs": []
    },
    {
      "cell_type": "code",
      "metadata": {
        "id": "cxotXyBR6iBP",
        "colab_type": "code",
        "colab": {
          "base_uri": "https://localhost:8080/",
          "height": 35
        },
        "outputId": "1ac532f4-585e-4f6a-9d65-c9396e7f952a"
      },
      "source": [
        "accuracy = tf.reduce_mean(correct_predictions)\n",
        "print(\"Accuracy: \", accuracy.eval({x:mnist.test.images,\n",
        "                                  y:mnist.test.labels}))"
      ],
      "execution_count": 45,
      "outputs": [
        {
          "output_type": "stream",
          "text": [
            "Accuracy:  0.9309\n"
          ],
          "name": "stdout"
        }
      ]
    }
  ]
}